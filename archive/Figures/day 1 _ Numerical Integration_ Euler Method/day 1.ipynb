{
 "cells": [
  {
   "cell_type": "markdown",
   "metadata": {},
   "source": [
    "## Day 1: Of Numerical Integration and Python\n",
    "\n",
    "Welcome to Day 1! Today, we start with our discussion of what Numerical Integration is."
   ]
  },
  {
   "cell_type": "markdown",
   "metadata": {},
   "source": [
    "### What is Numerical Integration?\n",
    "\n",
    "From the point of view of a theoretician, the ideal form of the solution to a differential equation given the initial conditions, i.e. an initial value problem (IVP), would be a formula for the solution function. But sometimes obtaining a formulaic solution is not always easy, and in many cases is absolutely impossible. So, what do we do when faced with a differential equation that we cannot solve? If you are only looking for long term behavior of a solution you can always sketch a direction field. This can be done without too much difficulty for some fairly complex differential equations that we can’t solve to get exact solutions. But, what if we need to determine how a specific solution behaves, including some values that the solution will take? In that case, we have to rely on numerical methods for solving the IVP such as euler's method or the Runge-Kutta Methods. \n",
    "\n",
    "#### Euler's Method for Numerical Integration\n",
    "\n",
    "We use Euler's Method to generate a numerical solution to an initial value problem of the form:\n",
    "\n",
    "$$\\frac{dx}{dt} = f(x, t)$$\n",
    "$$x(t_o) = x_o$$\n",
    "\n",
    "Firstly, we decide the interval over which we desire to find the solution, starting at the initial condition. We break this interval into small subdivisions of a fixed length $\\epsilon$. Then, using the initial condition as our starting point, we generate the rest of the solution by using the iterative formulas:\n",
    "\n",
    "$$t_{n+1} = t_n + \\epsilon$$\n",
    "$$x_{n+1} = x_n + \\epsilon f(x_n, t_n)$$\n",
    "\n",
    "to find the coordinates of the points in our numerical solution. We end this process once we have reached the end of the desired interval.\n",
    "\n",
    "The best way to understand how it works is from the following diagram:\n",
    "\n",
    "<img src=\"euler.png\" alt=\"euler.png\" width=\"400\"/>\n",
    "\n",
    "#### Euler's Method in Python\n",
    "Let $\\frac{dx}{dt}=f(x,t)$, we want to find $x(t)$ over $t\\in[0,2)$, given that $x(0)=1$ and $f(x,t) = 5x$. The exact solution of this equation would be $x(t) = e^{5t}$.\n"
   ]
  },
  {
   "cell_type": "code",
   "execution_count": 31,
   "metadata": {},
   "outputs": [
    {
     "data": {
      "image/png": "[encoded data removed]",
      "text/plain": [
       "<Figure size 432x288 with 1 Axes>"
      ]
     },
     "metadata": {},
     "output_type": "display_data"
    }
   ],
   "source": [
    "import numpy as np\n",
    "import matplotlib.pyplot as plt\n",
    "%matplotlib inline\n",
    "\n",
    "def f(x,t): # define the function f(x,t)\n",
    "    return 5*x\n",
    "\n",
    "epsilon = 0.01 # define timestep\n",
    "\n",
    "t = np.arange(0,2,epsilon) # define an array for t\n",
    "x = np.zeros(t.shape) # define an array for x\n",
    "\n",
    "x[0]= 1 # set initial condition\n",
    "\n",
    "for i in range(1,t.shape[0]):\n",
    "    x[i] = epsilon*f(x[i-1],t[i-1])+x[i-1] # Euler Integration Step\n",
    "\n",
    "plt.style.use('seaborn-colorblind')\n",
    "plt.style.use('seaborn-ticks')\n",
    "ax = plt.subplot(111)    \n",
    "ax.spines[\"top\"].set_visible(False)    \n",
    "ax.spines[\"right\"].set_visible(False)       \n",
    "ax.get_xaxis().tick_bottom()    \n",
    "ax.get_yaxis().tick_left()  \n",
    "ax.grid(color='#DDDDDD', linestyle='--', linewidth=0.3)\n",
    "\n",
    "plt.plot(t[::5],x[::5],\".\",label=\"Eulers Solution\")\n",
    "plt.plot(t,np.exp(5*t),label=\"Exact Solution\")\n",
    "plt.xlabel(\"t\")\n",
    "plt.ylabel(\"x\")\n",
    "plt.legend()\n",
    "plt.tight_layout()\n",
    "fig = plt.gcf()\n",
    "fig.savefig(\"fig2.eps\",format='eps')\n",
    "plt.show()\n",
    "\n"
   ]
  },
  {
   "cell_type": "code",
   "execution_count": 2,
   "metadata": {},
   "outputs": [
    {
     "data": {
      "text/plain": [
       "['bmh',\n",
       " 'ggplot',\n",
       " 'seaborn-notebook',\n",
       " 'dark_background',\n",
       " 'classic',\n",
       " 'seaborn-whitegrid',\n",
       " 'seaborn-talk',\n",
       " 'grayscale',\n",
       " 'seaborn-paper',\n",
       " 'seaborn-pastel',\n",
       " 'Solarize_Light2',\n",
       " 'tableau-colorblind10',\n",
       " 'seaborn-colorblind',\n",
       " 'seaborn-dark-palette',\n",
       " 'seaborn-ticks',\n",
       " 'seaborn-darkgrid',\n",
       " 'fast',\n",
       " 'seaborn-bright',\n",
       " 'seaborn-muted',\n",
       " 'seaborn',\n",
       " 'fivethirtyeight',\n",
       " 'seaborn-deep',\n",
       " 'seaborn-poster',\n",
       " 'seaborn-white',\n",
       " '_classic_test',\n",
       " 'seaborn-dark']"
      ]
     },
     "execution_count": 2,
     "metadata": {},
     "output_type": "execute_result"
    }
   ],
   "source": [
    "plt.style.available"
   ]
  },
  {
   "cell_type": "markdown",
   "metadata": {},
   "source": [
    "#### Euler and Vectors\n",
    "\n",
    "Euler's Method also applies to vectors and can solve simultaneous differential equations.\n",
    "\n",
    "The Initial Value problem now becomes:\n",
    "\n",
    "$$\\frac{d\\vec{X}}{dt} = \\vec{f}(\\vec{X}, t)$$\n",
    "$$\\vec{X}(t_o) = \\vec{X_o}$$\n",
    "\n",
    "where $\\vec{X}=[X_1,X_2...]$ and $\\vec{f}(\\vec{X}, t)=[f_1(\\vec{X}, t),f_2(\\vec{X}, t)...]$.\n",
    "\n",
    "The Euler's Method becomes:\n",
    "\n",
    "$$t_{n+1} = t_n + \\epsilon$$\n",
    "$$\\vec{X_{n+1}} = \\vec{X_n} + \\epsilon \\vec{f}(\\vec{X_n}, t_n)$$\n",
    "\n",
    "Let $\\frac{d\\vec{X}}{dt}=f(\\vec{X},t)$, we want to find $\\vec{X}(t)$ over $t\\in[0,2)$, given that $\\vec{X}(t)=[x,y]$, $\\vec{X}(0)=[1,0]$ and $f(\\vec{X},t) = [x-y,y-x]$."
   ]
  },
  {
   "cell_type": "code",
   "execution_count": 14,
   "metadata": {},
   "outputs": [
    {
     "data": {
      "image/png": "[encoded data removed]",
      "text/plain": [
       "<Figure size 432x288 with 1 Axes>"
      ]
     },
     "metadata": {
      "needs_background": "light"
     },
     "output_type": "display_data"
    }
   ],
   "source": [
    "def f(X,t): # define the function f(x,t)\n",
    "    x,y = X\n",
    "    return np.array([x-y,y-x])\n",
    "\n",
    "epsilon = 0.01 # define timestep\n",
    "\n",
    "t = np.arange(0,2,epsilon) # define an array for t\n",
    "X = np.zeros((2,t.shape[0])) # define an array for x\n",
    "\n",
    "X[:,0]= [1,0] # set initial condition\n",
    "\n",
    "for i in range(1,t.shape[0]):\n",
    "    X[:,i] = epsilon*f(X[:,i-1],t[i-1])+X[:,i-1] # Euler Integration Step\n",
    "\n",
    "\n",
    "plt.plot(t[::10],X[0,::10],\".\",label=\"Eulers Solution for x\")\n",
    "plt.plot(t[::10],X[1,::10],\".\",label=\"Eulers Solution for y\")\n",
    "plt.xlabel(\"t\")\n",
    "plt.ylabel(\"x\")\n",
    "plt.legend()\n",
    "plt.tight_layout()\n",
    "fig = plt.gcf()\n",
    "fig.savefig(\"fig3.eps\",format='eps')\n",
    "plt.show()"
   ]
  },
  {
   "cell_type": "markdown",
   "metadata": {},
   "source": [
    "#### A Generalized function for Euler Integration\n",
    "\n",
    "Now, we create a generalized function that takes in 3 inputs ie. the function $\\vec{f}(\\vec{y},t)$ when $\\frac{d\\vec{y}}{dt}=f(\\vec{y},t)$, the time array, and initial vector $\\vec{y_0}$.\n",
    "\n",
    "##### Algorithm\n",
    "- Get the required inputs: function $\\vec{f}(\\vec{y},t)$, initial condition vector $\\vec{y_0}$ and time series $t$. Entering a time series $t$ allows for greater control over $\\epsilon$ as it can now vary for each timestep. The only difference in the Euler's Method is now : $\\epsilon\\rightarrow\\epsilon(t_n)$.\n",
    "- Check if the input is of the correct datatype ie. floating point decimal.\n",
    "- Create a zero matrix to hold the output.\n",
    "- For each timestep, perform the euler method updation with variable $\\epsilon$ and store it in the output matrix.\n",
    "- Return the output timeseries matrix."
   ]
  },
  {
   "cell_type": "code",
   "execution_count": 15,
   "metadata": {},
   "outputs": [],
   "source": [
    "def check_type(y,t): # Ensure Input is Correct\n",
    "    return y.dtype == np.floating and t.dtype == np.floating\n",
    "\n",
    "class _Integrator():\n",
    "    \n",
    "    def integrate(self,func,y0,t):\n",
    "        time_delta_grid = t[1:] - t[:-1]\n",
    "        \n",
    "        y = np.zeros((y0.shape[0],t.shape[0]))\n",
    "        y[:,0] = y0\n",
    "        \n",
    "        for i in range(time_delta_grid.shape[0]):\n",
    "            y[:,i+1]= time_delta_grid[i]*func(y[:,i],t[i])+y[:,i]\n",
    "        return y\n",
    "\n",
    "def odeint_euler(func,y0,t):\n",
    "    y0 = np.array(y0)\n",
    "    t = np.array(t)\n",
    "    if check_type(y0,t):\n",
    "        return _Integrator().integrate(func,y0,t)\n",
    "    else:\n",
    "        print(\"error encountered\")"
   ]
  },
  {
   "cell_type": "code",
   "execution_count": 16,
   "metadata": {
    "scrolled": false
   },
   "outputs": [
    {
     "data": {
      "image/png": "[encoded data removed]",
      "text/plain": [
       "<Figure size 432x288 with 1 Axes>"
      ]
     },
     "metadata": {
      "needs_background": "light"
     },
     "output_type": "display_data"
    }
   ],
   "source": [
    "solution = odeint_euler(f,[1.,0.],t)\n",
    "\n",
    "plt.plot(t[::5],solution[0,::5],\".\",label=\"Eulers Solution for x\")\n",
    "plt.plot(t[::5],solution[1,::5],\".\",label=\"Eulers Solution for y\")\n",
    "plt.xlabel(\"t\")\n",
    "plt.ylabel(\"X\")\n",
    "plt.legend()\n",
    "plt.show()"
   ]
  },
  {
   "cell_type": "markdown",
   "metadata": {},
   "source": [
    "####  Runge-Kutta Methods for Numerical Integration\n",
    "\n",
    "The formula for the Euler method is $x_{n+1}=x_n + \\epsilon f(x_n,t_n)$ which takes a solution from $t_n$ to $t_{n+1}=t_n+\\epsilon$. One might notice there is an inherent assymetry in the formula. It advances the solution through an interval $\\epsilon$, but uses the derivative information at only the start of the interval. This results in an error in the order of $O(\\epsilon^2)$. But, what if we take a trial step and evaluate the derivative at the midpoint of the update interval to evaluate the value of $y_{n+1}$? Take the equations:\n",
    "\n",
    "$$k_1=\\epsilon f(x_n,t_n)$$\n",
    "\n",
    "$$k_2=\\epsilon f(x_n+\\frac{k_1}{2},t_n+\\frac{\\epsilon}{2})$$ \n",
    "\n",
    "$$y_{n+1}=y_n+k_2+O(\\epsilon^3)$$\n",
    "\n",
    "The symmetrization removes the O($\\epsilon^2$) error term and now the method is second order and called the second order Runge-Kutta method or the midpoint method. You can look at this method graphically as follows:\n",
    "\n",
    "<img src=\"rk2.png\" alt=\"rk2.png\" width=\"400\"/>\n",
    "\n",
    "But we do not have to stop here. By further rewriting the equation, we can cancel higher order error terms and reach the most commonly used fourth-order Runge-Kutta Methods or RK4 method, which is described below:\n",
    "\n",
    "$$k_1=f(x_n,t_n)$$\n",
    "\n",
    "$$k_2=f(x_n+\\epsilon\\frac{k_1}{2},t_n+\\frac{\\epsilon}{2})$$\n",
    "\n",
    "$$k_3=f(x_n+\\epsilon\\frac{k_2}{2},t_n+\\frac{\\epsilon}{2})$$\n",
    "\n",
    "$$k_4=f(x_n+\\epsilon k_3,t_n+\\epsilon)$$\n",
    "\n",
    "$$y_{n+1}=y_n+\\frac{\\epsilon}{6}(k_1+2 k_2+2 k_3+k_4)+O(\\epsilon^5)$$\n",
    "\n",
    "Note that this numerical method is again easily converted to a vector algorithm by simply replacing $x_i$ by the vector $\\vec{X_i}$. \n",
    "\n",
    "This method is what we will use to simulate our networks.\n",
    "\n",
    "\n",
    "#### Generalized RK4 Method in Python\n",
    "\n",
    "Just like we had created a function for Euler Integration in Python, we create a generalized function for RK4 that takes in 3 inputs ie. the function $f(\\vec{y},t)$ when $\\frac{d\\vec{y}}{dt}=f(\\vec{y},t)$, the time array, and initial vector $\\vec{y_0}$. We then perform the exact same integration that we had done with Euler's Method. Everything remains the same except we replace the Euler's method updation rule with the RK4 update rule.\n",
    "\n"
   ]
  },
  {
   "cell_type": "code",
   "execution_count": 29,
   "metadata": {
    "scrolled": true
   },
   "outputs": [
    {
     "data": {
      "image/png": "[encoded data removed]",
      "text/plain": [
       "<Figure size 432x288 with 1 Axes>"
      ]
     },
     "metadata": {
      "needs_background": "light"
     },
     "output_type": "display_data"
    }
   ],
   "source": [
    "def check_type(y,t): # Ensure Input is Correct\n",
    "    return y.dtype == np.floating and t.dtype == np.floating\n",
    "\n",
    "class _Integrator():\n",
    "    \n",
    "    def integrate(self,func,y0,t):\n",
    "        time_delta_grid = t[1:] - t[:-1]\n",
    "        \n",
    "        y = np.zeros((y0.shape[0],t.shape[0]))\n",
    "        y[:,0] = y0\n",
    "\n",
    "        for i in range(time_delta_grid.shape[0]):\n",
    "            k1 = func(y[:,i], t[i])                               # RK4 Integration Steps\n",
    "            half_step = t[i] + time_delta_grid[i] / 2\n",
    "            k2 = func(y[:,i] + time_delta_grid[i] * k1 / 2, half_step)\n",
    "            k3 = func(y[:,i] + time_delta_grid[i] * k2 / 2, half_step)\n",
    "            k4 = func(y[:,i] + time_delta_grid[i] * k3, t + time_delta_grid[i])\n",
    "            y[:,i+1]= (k1 + 2 * k2 + 2 * k3 + k4) * (time_delta_grid[i] / 6) + y[:,i]\n",
    "        return y\n",
    "\n",
    "def odeint_rk4(func,y0,t):\n",
    "    y0 = np.array(y0)\n",
    "    t = np.array(t)\n",
    "    if check_type(y0,t):\n",
    "        return _Integrator().integrate(func,y0,t)\n",
    "    else:\n",
    "        print(\"error encountered\")\n",
    "        \n",
    "solution1 = odeint_euler(f,[1.,0.],t)\n",
    "solution2 = odeint_rk4(f,[1.,0.],t)\n",
    "\n",
    "\n",
    "# Remove the plot frame lines. They are unnecessary chartjunk.    \n",
    "ax = plt.subplot(111)    \n",
    "ax.spines[\"top\"].set_visible(False)    \n",
    "ax.spines[\"right\"].set_visible(False)       \n",
    "ax.get_xaxis().tick_bottom()    \n",
    "ax.get_yaxis().tick_left()  \n",
    "ax.grid(color='#DDDDDD', linestyle='--', linewidth=0.3)\n",
    "\n",
    "plt.plot(t[::10],solution1[0,::10],\":\",label=\"Euler Solution for x\")\n",
    "plt.plot(t[::10],solution1[1,::10],\":\",label=\"Euler Solution for y\")\n",
    "plt.plot(t[::10],solution2[0,::10],\".\",label=\"RK4 Solution for x\")\n",
    "plt.plot(t[::10],solution2[1,::10],\".\",label=\"RK4 Solution for y\")\n",
    "plt.xlabel(\"t\")\n",
    "plt.ylabel(\"X\")\n",
    "plt.legend()\n",
    "plt.tight_layout()\n",
    "fig = plt.gcf()\n",
    "fig.savefig(\"fig3.eps\",format='eps')\n",
    "plt.show()"
   ]
  },
  {
   "cell_type": "markdown",
   "metadata": {},
   "source": [
    "As an **Exercise**, try to solve the equation of a simple pendulum and observe its dynamics using Euler Method and RK4 methods. The equation of motion of a simple pendulum is given by: $$\\frac{d^2s}{dt^2}=L\\frac{d^2\\theta}{dt^2}=-g\\sin{\\theta}$$ where $L$ = Length of String and $\\theta$ = angle made with vertical. To solve this second order differential equation you may use a dummy variable $\\omega$ representing angular velocity such that:\n",
    "$$\\frac{d\\theta}{dt}=\\omega$$\n",
    "$$\\frac{d\\omega}{dt}=-\\frac{g}{L}\\sin{\\theta}$$"
   ]
  },
  {
   "cell_type": "code",
   "execution_count": null,
   "metadata": {},
   "outputs": [],
   "source": []
  }
 ],
 "metadata": {
  "kernelspec": {
   "display_name": "Python 3",
   "language": "python",
   "name": "python3"
  },
  "language_info": {
   "codemirror_mode": {
    "name": "ipython",
    "version": 3
   },
   "file_extension": ".py",
   "mimetype": "text/x-python",
   "name": "python",
   "nbconvert_exporter": "python",
   "pygments_lexer": "ipython3",
   "version": "3.6.6"
  }
 },
 "nbformat": 4,
 "nbformat_minor": 2
}
